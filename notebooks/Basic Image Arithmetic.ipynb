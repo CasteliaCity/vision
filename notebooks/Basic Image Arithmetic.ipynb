{
 "cells": [
  {
   "cell_type": "markdown",
   "metadata": {},
   "source": [
    "# Basic Image Arithmetic\n",
    "Since each pixel in an image is represented by numbers we can use basic arithmetic such as addition and subtraction. One thing we have to keep in mind is that the numbers used in image pixels are limited in range, usually 0-255.\n",
    "\n",
    "OpenCV and numpy arithmetic deal with these numeric range limits in different ways."
   ]
  },
  {
   "cell_type": "code",
   "execution_count": 1,
   "metadata": {
    "collapsed": false
   },
   "outputs": [],
   "source": [
    "%matplotlib inline\n",
    "import cv2\n",
    "from matplotlib import pyplot as plt\n",
    "import numpy as np\n",
    "import imutils"
   ]
  },
  {
   "cell_type": "markdown",
   "metadata": {},
   "source": [
    "## Numpy Arithmetic\n",
    "Numpy \"wraps\" around when it hits a numeric range limit while performing addition or subtraction. For example, lets add and subtract two `uint8` (0-255). We use arrays with a single number since numpy expects to work on arrays."
   ]
  },
  {
   "cell_type": "code",
   "execution_count": 2,
   "metadata": {
    "collapsed": false
   },
   "outputs": [
    {
     "name": "stdout",
     "output_type": "stream",
     "text": [
      "[200] + [100] -> [44]\n",
      "[100] - [200] -> [156]\n"
     ]
    }
   ],
   "source": [
    "print(\"[200] + [100] -> {}\".format(np.uint8([200]) + np.uint8([100])))\n",
    "print(\"[100] - [200] -> {}\".format(np.uint8([100]) - np.uint8([200])))"
   ]
  },
  {
   "cell_type": "markdown",
   "metadata": {},
   "source": [
    "## OpenCV Arithmetic\n",
    "OpenCV \"clips\" to the minumum or maximum value when it hits a numeric range limit while performing addition or subtraction. This is usually what we expect for image arithmetic. Again, lets add and subtract two uint8 (0-255)."
   ]
  },
  {
   "cell_type": "code",
   "execution_count": 3,
   "metadata": {
    "collapsed": false
   },
   "outputs": [
    {
     "name": "stdout",
     "output_type": "stream",
     "text": [
      "[200] + [100] -> [[255]]\n",
      "[100] - [200] -> [[0]]\n"
     ]
    }
   ],
   "source": [
    "print(\"[200] + [100] -> {}\".format(cv2.add(np.uint8([200]), np.uint8([100]))))\n",
    "print(\"[100] - [200] -> {}\".format(cv2.subtract(np.uint8([100]), np.uint8([200]))))"
   ]
  },
  {
   "cell_type": "markdown",
   "metadata": {},
   "source": [
    "## Original Image\n",
    "Let's apply arithmetic to an image."
   ]
  },
  {
   "cell_type": "code",
   "execution_count": 6,
   "metadata": {
    "collapsed": false,
    "scrolled": true
   },
   "outputs": [
    {
     "name": "stdout",
     "output_type": "stream",
     "text": [
      "None\n"
     ]
    }
   ],
   "source": [
    "image = cv2.imread(\"../python/images/python.jpg\")\n",
    "print(image)\n",
    "#plt.imshow(image)\n",
    "#plt.show()\n",
    "#imutils.display(image)"
   ]
  },
  {
   "cell_type": "markdown",
   "metadata": {},
   "source": [
    "## Addition\n",
    "Let's add 100 to each color channel of each pixel."
   ]
  },
  {
   "cell_type": "code",
   "execution_count": null,
   "metadata": {
    "collapsed": false
   },
   "outputs": [],
   "source": [
    "M = np.ones(image.shape, dtype = \"uint8\") * 100\n",
    "added = cv2.add(image, M)\n",
    "imutils.display(added)"
   ]
  },
  {
   "cell_type": "markdown",
   "metadata": {},
   "source": [
    "## Subtraction\n",
    "Let's subtract 75 from each color channel of each pixel."
   ]
  },
  {
   "cell_type": "code",
   "execution_count": null,
   "metadata": {
    "collapsed": false
   },
   "outputs": [],
   "source": [
    "M = np.ones(image.shape, dtype = \"uint8\") * 75\n",
    "subtracted = cv2.subtract(image, M)\n",
    "imutils.display(subtracted)"
   ]
  },
  {
   "cell_type": "markdown",
   "metadata": {
    "collapsed": true
   },
   "source": [
    "## Exercises\n",
    "1. What happens when you add or subtract from one color channel?"
   ]
  },
  {
   "cell_type": "code",
   "execution_count": null,
   "metadata": {
    "collapsed": true
   },
   "outputs": [],
   "source": []
  }
 ],
 "metadata": {
  "kernelspec": {
   "display_name": "Python 3",
   "language": "python",
   "name": "python3"
  },
  "language_info": {
   "codemirror_mode": {
    "name": "ipython",
    "version": 3
   },
   "file_extension": ".py",
   "mimetype": "text/x-python",
   "name": "python",
   "nbconvert_exporter": "python",
   "pygments_lexer": "ipython3",
   "version": "3.5.2"
  }
 },
 "nbformat": 4,
 "nbformat_minor": 0
}
